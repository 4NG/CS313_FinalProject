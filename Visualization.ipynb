{
 "cells": [
  {
   "cell_type": "code",
   "execution_count": 1,
   "metadata": {},
   "outputs": [],
   "source": [
    "import pandas as pd\n",
    "import numpy as np\n",
    "import matplotlib.pyplot as plt\n",
    "import seaborn as sns\n",
    "from sklearn.preprocessing import LabelEncoder"
   ]
  },
  {
   "cell_type": "code",
   "execution_count": 2,
   "metadata": {},
   "outputs": [
    {
     "name": "stdout",
     "output_type": "stream",
     "text": [
      "              Date Location  MinTemp  MaxTemp  Rainfall  Evaporation  \\\n",
      "0       2008-12-01   Albury     13.4     22.9       0.6          NaN   \n",
      "1       2008-12-02   Albury      7.4     25.1       0.0          NaN   \n",
      "2       2008-12-03   Albury     12.9     25.7       0.0          NaN   \n",
      "3       2008-12-04   Albury      9.2     28.0       0.0          NaN   \n",
      "4       2008-12-05   Albury     17.5     32.3       1.0          NaN   \n",
      "5       2008-12-06   Albury     14.6     29.7       0.2          NaN   \n",
      "6       2008-12-07   Albury     14.3     25.0       0.0          NaN   \n",
      "7       2008-12-08   Albury      7.7     26.7       0.0          NaN   \n",
      "8       2008-12-09   Albury      9.7     31.9       0.0          NaN   \n",
      "9       2008-12-10   Albury     13.1     30.1       1.4          NaN   \n",
      "10      2008-12-11   Albury     13.4     30.4       0.0          NaN   \n",
      "11      2008-12-12   Albury     15.9     21.7       2.2          NaN   \n",
      "12      2008-12-13   Albury     15.9     18.6      15.6          NaN   \n",
      "13      2008-12-14   Albury     12.6     21.0       3.6          NaN   \n",
      "14      2008-12-16   Albury      9.8     27.7       NaN          NaN   \n",
      "15      2008-12-17   Albury     14.1     20.9       0.0          NaN   \n",
      "16      2008-12-18   Albury     13.5     22.9      16.8          NaN   \n",
      "17      2008-12-19   Albury     11.2     22.5      10.6          NaN   \n",
      "18      2008-12-20   Albury      9.8     25.6       0.0          NaN   \n",
      "19      2008-12-21   Albury     11.5     29.3       0.0          NaN   \n",
      "20      2008-12-22   Albury     17.1     33.0       0.0          NaN   \n",
      "21      2008-12-23   Albury     20.5     31.8       0.0          NaN   \n",
      "22      2008-12-24   Albury     15.3     30.9       0.0          NaN   \n",
      "23      2008-12-25   Albury     12.6     32.4       0.0          NaN   \n",
      "24      2008-12-26   Albury     16.2     33.9       0.0          NaN   \n",
      "25      2008-12-27   Albury     16.9     33.0       0.0          NaN   \n",
      "26      2008-12-28   Albury     20.1     32.7       0.0          NaN   \n",
      "27      2008-12-29   Albury     19.7     27.2       0.0          NaN   \n",
      "28      2008-12-30   Albury     12.5     24.2       1.2          NaN   \n",
      "29      2008-12-31   Albury     12.0     24.4       0.8          NaN   \n",
      "...            ...      ...      ...      ...       ...          ...   \n",
      "142163  2017-05-26    Uluru     14.3     27.6       0.4          NaN   \n",
      "142164  2017-05-27    Uluru      9.3     28.0       0.0          NaN   \n",
      "142165  2017-05-28    Uluru      8.0     24.6       0.0          NaN   \n",
      "142166  2017-05-29    Uluru     12.7     22.2       0.0          NaN   \n",
      "142167  2017-05-30    Uluru      9.4     22.7       0.0          NaN   \n",
      "142168  2017-05-31    Uluru      5.4     20.5       0.0          NaN   \n",
      "142169  2017-06-01    Uluru      5.6     19.4       0.0          NaN   \n",
      "142170  2017-06-02    Uluru      1.5     19.2       0.0          NaN   \n",
      "142171  2017-06-03    Uluru      3.8     19.8       0.0          NaN   \n",
      "142172  2017-06-04    Uluru      4.5     18.8       0.0          NaN   \n",
      "142173  2017-06-05    Uluru      4.9     20.7       0.0          NaN   \n",
      "142174  2017-06-06    Uluru      1.2     20.8       0.0          NaN   \n",
      "142175  2017-06-07    Uluru      0.5     21.7       0.0          NaN   \n",
      "142176  2017-06-08    Uluru      4.0     20.0       0.0          NaN   \n",
      "142177  2017-06-09    Uluru      3.4     19.8       0.0          NaN   \n",
      "142178  2017-06-10    Uluru      3.2     18.6       0.0          NaN   \n",
      "142179  2017-06-11    Uluru      2.4     19.1       0.0          NaN   \n",
      "142180  2017-06-12    Uluru      5.1     19.7       0.0          NaN   \n",
      "142181  2017-06-13    Uluru      2.5     21.2       0.0          NaN   \n",
      "142182  2017-06-14    Uluru      2.3     21.4       0.0          NaN   \n",
      "142183  2017-06-15    Uluru      2.6     22.5       0.0          NaN   \n",
      "142184  2017-06-16    Uluru      5.2     24.3       0.0          NaN   \n",
      "142185  2017-06-17    Uluru      6.4     23.4       0.0          NaN   \n",
      "142186  2017-06-18    Uluru      8.0     20.7       0.0          NaN   \n",
      "142187  2017-06-19    Uluru      7.4     20.6       0.0          NaN   \n",
      "142188  2017-06-20    Uluru      3.5     21.8       0.0          NaN   \n",
      "142189  2017-06-21    Uluru      2.8     23.4       0.0          NaN   \n",
      "142190  2017-06-22    Uluru      3.6     25.3       0.0          NaN   \n",
      "142191  2017-06-23    Uluru      5.4     26.9       0.0          NaN   \n",
      "142192  2017-06-24    Uluru      7.8     27.0       0.0          NaN   \n",
      "\n",
      "        Sunshine WindGustDir  WindGustSpeed WindDir9am  ... Humidity3pm  \\\n",
      "0            NaN           W           44.0          W  ...        22.0   \n",
      "1            NaN         WNW           44.0        NNW  ...        25.0   \n",
      "2            NaN         WSW           46.0          W  ...        30.0   \n",
      "3            NaN          NE           24.0         SE  ...        16.0   \n",
      "4            NaN           W           41.0        ENE  ...        33.0   \n",
      "5            NaN         WNW           56.0          W  ...        23.0   \n",
      "6            NaN           W           50.0         SW  ...        19.0   \n",
      "7            NaN           W           35.0        SSE  ...        19.0   \n",
      "8            NaN         NNW           80.0         SE  ...         9.0   \n",
      "9            NaN           W           28.0          S  ...        27.0   \n",
      "10           NaN           N           30.0        SSE  ...        22.0   \n",
      "11           NaN         NNE           31.0         NE  ...        91.0   \n",
      "12           NaN           W           61.0        NNW  ...        93.0   \n",
      "13           NaN          SW           44.0          W  ...        43.0   \n",
      "14           NaN         WNW           50.0        NaN  ...        28.0   \n",
      "15           NaN         ENE           22.0        SSW  ...        82.0   \n",
      "16           NaN           W           63.0          N  ...        65.0   \n",
      "17           NaN         SSE           43.0        WSW  ...        32.0   \n",
      "18           NaN         SSE           26.0         SE  ...        26.0   \n",
      "19           NaN           S           24.0         SE  ...        28.0   \n",
      "20           NaN          NE           43.0         NE  ...        28.0   \n",
      "21           NaN         WNW           41.0          W  ...        24.0   \n",
      "22           NaN           N           33.0        ESE  ...        23.0   \n",
      "23           NaN           W           43.0          E  ...        17.0   \n",
      "24           NaN         WSW           35.0         SE  ...        19.0   \n",
      "25           NaN         WSW           57.0        NaN  ...        28.0   \n",
      "26           NaN         WNW           48.0          N  ...        15.0   \n",
      "27           NaN         WNW           46.0         NW  ...        22.0   \n",
      "28           NaN         WNW           50.0        WSW  ...        70.0   \n",
      "29           NaN           W           39.0        WNW  ...        28.0   \n",
      "...          ...         ...            ...        ...  ...         ...   \n",
      "142163       NaN         WNW           39.0        NaN  ...        27.0   \n",
      "142164       NaN           W           28.0        SSW  ...        16.0   \n",
      "142165       NaN           E           33.0         SE  ...        25.0   \n",
      "142166       NaN           E           37.0          E  ...        34.0   \n",
      "142167       NaN           E           35.0         SE  ...        32.0   \n",
      "142168       NaN           E           46.0          E  ...        32.0   \n",
      "142169       NaN           E           43.0          E  ...        22.0   \n",
      "142170       NaN           E           37.0        ESE  ...        18.0   \n",
      "142171       NaN         ENE           39.0        ESE  ...        22.0   \n",
      "142172       NaN           E           31.0        ESE  ...        26.0   \n",
      "142173       NaN           E           37.0        ESE  ...        11.0   \n",
      "142174       NaN           E           43.0        ESE  ...         6.0   \n",
      "142175       NaN           E           43.0        ESE  ...        19.0   \n",
      "142176       NaN          SE           39.0        ESE  ...        26.0   \n",
      "142177       NaN           E           43.0        ESE  ...        23.0   \n",
      "142178       NaN           E           46.0        ESE  ...        29.0   \n",
      "142179       NaN           E           33.0         SE  ...        24.0   \n",
      "142180       NaN           E           46.0        ESE  ...        29.0   \n",
      "142181       NaN         ENE           35.0        ESE  ...        32.0   \n",
      "142182       NaN          SE           22.0         SE  ...        28.0   \n",
      "142183       NaN           S           19.0          S  ...        24.0   \n",
      "142184       NaN           E           24.0         SE  ...        24.0   \n",
      "142185       NaN         ESE           31.0          S  ...        25.0   \n",
      "142186       NaN         ESE           41.0         SE  ...        32.0   \n",
      "142187       NaN           E           35.0        ESE  ...        33.0   \n",
      "142188       NaN           E           31.0        ESE  ...        27.0   \n",
      "142189       NaN           E           31.0         SE  ...        24.0   \n",
      "142190       NaN         NNW           22.0         SE  ...        21.0   \n",
      "142191       NaN           N           37.0         SE  ...        24.0   \n",
      "142192       NaN          SE           28.0        SSE  ...        24.0   \n",
      "\n",
      "        Pressure9am  Pressure3pm  Cloud9am  Cloud3pm  Temp9am  Temp3pm  \\\n",
      "0            1007.7       1007.1       8.0       NaN     16.9     21.8   \n",
      "1            1010.6       1007.8       NaN       NaN     17.2     24.3   \n",
      "2            1007.6       1008.7       NaN       2.0     21.0     23.2   \n",
      "3            1017.6       1012.8       NaN       NaN     18.1     26.5   \n",
      "4            1010.8       1006.0       7.0       8.0     17.8     29.7   \n",
      "5            1009.2       1005.4       NaN       NaN     20.6     28.9   \n",
      "6            1009.6       1008.2       1.0       NaN     18.1     24.6   \n",
      "7            1013.4       1010.1       NaN       NaN     16.3     25.5   \n",
      "8            1008.9       1003.6       NaN       NaN     18.3     30.2   \n",
      "9            1007.0       1005.7       NaN       NaN     20.1     28.2   \n",
      "10           1011.8       1008.7       NaN       NaN     20.4     28.8   \n",
      "11           1010.5       1004.2       8.0       8.0     15.9     17.0   \n",
      "12            994.3        993.0       8.0       8.0     17.4     15.8   \n",
      "13           1001.2       1001.8       NaN       7.0     15.8     19.8   \n",
      "14           1013.4       1010.3       0.0       NaN     17.3     26.2   \n",
      "15           1012.2       1010.4       8.0       1.0     17.2     18.1   \n",
      "16           1005.8       1002.2       8.0       1.0     18.0     21.5   \n",
      "17           1009.4       1009.7       NaN       2.0     15.5     21.0   \n",
      "18           1019.2       1017.1       NaN       NaN     15.8     23.2   \n",
      "19           1019.3       1014.8       NaN       NaN     19.1     27.3   \n",
      "20           1013.6       1008.1       NaN       1.0     24.5     31.6   \n",
      "21           1007.8       1005.7       NaN       NaN     23.8     30.8   \n",
      "22           1011.0       1008.2       5.0       NaN     20.9     29.0   \n",
      "23           1012.9       1010.1       NaN       NaN     21.5     31.2   \n",
      "24           1010.9       1007.6       NaN       1.0     23.2     33.0   \n",
      "25           1006.8       1003.6       NaN       1.0     26.6     31.2   \n",
      "26           1005.2       1001.7       NaN       NaN     24.6     32.1   \n",
      "27           1004.8       1004.2       NaN       NaN     21.6     26.1   \n",
      "28           1005.6       1003.4       8.0       8.0     12.5     18.2   \n",
      "29           1006.1       1005.1       1.0       NaN     16.9     22.7   \n",
      "...             ...          ...       ...       ...      ...      ...   \n",
      "142163       1020.5       1016.1       4.0       7.0     16.1     27.2   \n",
      "142164       1019.9       1016.9       NaN       NaN     16.6     27.3   \n",
      "142165       1021.7       1018.8       4.0       NaN     13.8     23.5   \n",
      "142166       1024.3       1021.7       8.0       8.0     13.9     21.0   \n",
      "142167       1026.6       1023.6       8.0       4.0     11.8     22.3   \n",
      "142168       1029.2       1025.3       NaN       NaN     11.1     20.2   \n",
      "142169       1029.6       1027.1       NaN       NaN      9.7     18.3   \n",
      "142170       1030.7       1026.7       NaN       NaN      6.8     17.6   \n",
      "142171       1028.7       1024.1       NaN       NaN      8.6     18.9   \n",
      "142172       1026.9       1022.4       NaN       NaN      9.5     18.6   \n",
      "142173       1027.1       1023.9       NaN       NaN     10.3     19.8   \n",
      "142174       1029.8       1025.9       NaN       NaN      7.9     19.9   \n",
      "142175       1029.0       1025.0       NaN       NaN      9.5     20.5   \n",
      "142176       1030.2       1026.7       NaN       NaN      9.1     19.0   \n",
      "142177       1031.8       1027.7       NaN       NaN      8.7     18.9   \n",
      "142178       1031.0       1027.2       NaN       NaN      8.2     17.4   \n",
      "142179       1030.0       1026.2       NaN       NaN      8.0     18.8   \n",
      "142180       1028.5       1025.8       NaN       NaN      8.5     19.2   \n",
      "142181       1027.2       1023.0       NaN       NaN     10.3     20.3   \n",
      "142182       1026.9       1022.8       NaN       NaN      8.9     20.3   \n",
      "142183       1025.0       1021.4       NaN       NaN      8.8     22.1   \n",
      "142184       1023.8       1020.0       NaN       NaN     12.3     23.3   \n",
      "142185       1025.8       1023.0       NaN       NaN     11.2     23.1   \n",
      "142186       1028.1       1024.3       NaN       7.0     11.6     20.0   \n",
      "142187       1027.2       1023.3       NaN       NaN     11.0     20.3   \n",
      "142188       1024.7       1021.2       NaN       NaN      9.4     20.9   \n",
      "142189       1024.6       1020.3       NaN       NaN     10.1     22.4   \n",
      "142190       1023.5       1019.1       NaN       NaN     10.9     24.5   \n",
      "142191       1021.0       1016.8       NaN       NaN     12.5     26.1   \n",
      "142192       1019.4       1016.5       3.0       2.0     15.1     26.0   \n",
      "\n",
      "        RainToday  RISK_MM  RainTomorrow  \n",
      "0              No      0.0            No  \n",
      "1              No      0.0            No  \n",
      "2              No      0.0            No  \n",
      "3              No      1.0            No  \n",
      "4              No      0.2            No  \n",
      "5              No      0.0            No  \n",
      "6              No      0.0            No  \n",
      "7              No      0.0            No  \n",
      "8              No      1.4           Yes  \n",
      "9             Yes      0.0            No  \n",
      "10             No      2.2           Yes  \n",
      "11            Yes     15.6           Yes  \n",
      "12            Yes      3.6           Yes  \n",
      "13            Yes      0.0            No  \n",
      "14            NaN      0.0            No  \n",
      "15             No     16.8           Yes  \n",
      "16            Yes     10.6           Yes  \n",
      "17            Yes      0.0            No  \n",
      "18             No      0.0            No  \n",
      "19             No      0.0            No  \n",
      "20             No      0.0            No  \n",
      "21             No      0.0            No  \n",
      "22             No      0.0            No  \n",
      "23             No      0.0            No  \n",
      "24             No      0.0            No  \n",
      "25             No      0.0            No  \n",
      "26             No      0.0            No  \n",
      "27             No      1.2           Yes  \n",
      "28            Yes      0.8            No  \n",
      "29             No      0.0            No  \n",
      "...           ...      ...           ...  \n",
      "142163         No      0.0            No  \n",
      "142164         No      0.0            No  \n",
      "142165         No      0.0            No  \n",
      "142166         No      0.0            No  \n",
      "142167         No      0.0            No  \n",
      "142168         No      0.0            No  \n",
      "142169         No      0.0            No  \n",
      "142170         No      0.0            No  \n",
      "142171         No      0.0            No  \n",
      "142172         No      0.0            No  \n",
      "142173         No      0.0            No  \n",
      "142174         No      0.0            No  \n",
      "142175         No      0.0            No  \n",
      "142176         No      0.0            No  \n",
      "142177         No      0.0            No  \n",
      "142178         No      0.0            No  \n",
      "142179         No      0.0            No  \n",
      "142180         No      0.0            No  \n",
      "142181         No      0.0            No  \n",
      "142182         No      0.0            No  \n",
      "142183         No      0.0            No  \n",
      "142184         No      0.0            No  \n",
      "142185         No      0.0            No  \n",
      "142186         No      0.0            No  \n",
      "142187         No      0.0            No  \n",
      "142188         No      0.0            No  \n",
      "142189         No      0.0            No  \n",
      "142190         No      0.0            No  \n",
      "142191         No      0.0            No  \n",
      "142192         No      0.0            No  \n",
      "\n",
      "[142193 rows x 24 columns]\n"
     ]
    }
   ],
   "source": [
    "df = pd.read_csv('weatherAUS.csv')\n",
    "print(df)"
   ]
  },
  {
   "cell_type": "code",
   "execution_count": 9,
   "metadata": {},
   "outputs": [
    {
     "data": {
      "text/html": [
       "<div>\n",
       "<style scoped>\n",
       "    .dataframe tbody tr th:only-of-type {\n",
       "        vertical-align: middle;\n",
       "    }\n",
       "\n",
       "    .dataframe tbody tr th {\n",
       "        vertical-align: top;\n",
       "    }\n",
       "\n",
       "    .dataframe thead th {\n",
       "        text-align: right;\n",
       "    }\n",
       "</style>\n",
       "<table border=\"1\" class=\"dataframe\">\n",
       "  <thead>\n",
       "    <tr style=\"text-align: right;\">\n",
       "      <th></th>\n",
       "      <th>Date</th>\n",
       "      <th>Location</th>\n",
       "      <th>MinTemp</th>\n",
       "      <th>MaxTemp</th>\n",
       "      <th>Rainfall</th>\n",
       "      <th>Evaporation</th>\n",
       "      <th>Sunshine</th>\n",
       "      <th>WindGustDir</th>\n",
       "      <th>WindGustSpeed</th>\n",
       "      <th>WindDir9am</th>\n",
       "      <th>...</th>\n",
       "      <th>Humidity3pm</th>\n",
       "      <th>Pressure9am</th>\n",
       "      <th>Pressure3pm</th>\n",
       "      <th>Cloud9am</th>\n",
       "      <th>Cloud3pm</th>\n",
       "      <th>Temp9am</th>\n",
       "      <th>Temp3pm</th>\n",
       "      <th>RainToday</th>\n",
       "      <th>RISK_MM</th>\n",
       "      <th>RainTomorrow</th>\n",
       "    </tr>\n",
       "  </thead>\n",
       "  <tbody>\n",
       "    <tr>\n",
       "      <th>0</th>\n",
       "      <td>2008-12-01</td>\n",
       "      <td>Albury</td>\n",
       "      <td>13.4</td>\n",
       "      <td>22.9</td>\n",
       "      <td>0.6</td>\n",
       "      <td>NaN</td>\n",
       "      <td>NaN</td>\n",
       "      <td>W</td>\n",
       "      <td>44.0</td>\n",
       "      <td>W</td>\n",
       "      <td>...</td>\n",
       "      <td>22.0</td>\n",
       "      <td>1007.7</td>\n",
       "      <td>1007.1</td>\n",
       "      <td>8.0</td>\n",
       "      <td>NaN</td>\n",
       "      <td>16.9</td>\n",
       "      <td>21.8</td>\n",
       "      <td>No</td>\n",
       "      <td>0.0</td>\n",
       "      <td>No</td>\n",
       "    </tr>\n",
       "    <tr>\n",
       "      <th>1</th>\n",
       "      <td>2008-12-02</td>\n",
       "      <td>Albury</td>\n",
       "      <td>7.4</td>\n",
       "      <td>25.1</td>\n",
       "      <td>0.0</td>\n",
       "      <td>NaN</td>\n",
       "      <td>NaN</td>\n",
       "      <td>WNW</td>\n",
       "      <td>44.0</td>\n",
       "      <td>NNW</td>\n",
       "      <td>...</td>\n",
       "      <td>25.0</td>\n",
       "      <td>1010.6</td>\n",
       "      <td>1007.8</td>\n",
       "      <td>NaN</td>\n",
       "      <td>NaN</td>\n",
       "      <td>17.2</td>\n",
       "      <td>24.3</td>\n",
       "      <td>No</td>\n",
       "      <td>0.0</td>\n",
       "      <td>No</td>\n",
       "    </tr>\n",
       "    <tr>\n",
       "      <th>2</th>\n",
       "      <td>2008-12-03</td>\n",
       "      <td>Albury</td>\n",
       "      <td>12.9</td>\n",
       "      <td>25.7</td>\n",
       "      <td>0.0</td>\n",
       "      <td>NaN</td>\n",
       "      <td>NaN</td>\n",
       "      <td>WSW</td>\n",
       "      <td>46.0</td>\n",
       "      <td>W</td>\n",
       "      <td>...</td>\n",
       "      <td>30.0</td>\n",
       "      <td>1007.6</td>\n",
       "      <td>1008.7</td>\n",
       "      <td>NaN</td>\n",
       "      <td>2.0</td>\n",
       "      <td>21.0</td>\n",
       "      <td>23.2</td>\n",
       "      <td>No</td>\n",
       "      <td>0.0</td>\n",
       "      <td>No</td>\n",
       "    </tr>\n",
       "    <tr>\n",
       "      <th>3</th>\n",
       "      <td>2008-12-04</td>\n",
       "      <td>Albury</td>\n",
       "      <td>9.2</td>\n",
       "      <td>28.0</td>\n",
       "      <td>0.0</td>\n",
       "      <td>NaN</td>\n",
       "      <td>NaN</td>\n",
       "      <td>NE</td>\n",
       "      <td>24.0</td>\n",
       "      <td>SE</td>\n",
       "      <td>...</td>\n",
       "      <td>16.0</td>\n",
       "      <td>1017.6</td>\n",
       "      <td>1012.8</td>\n",
       "      <td>NaN</td>\n",
       "      <td>NaN</td>\n",
       "      <td>18.1</td>\n",
       "      <td>26.5</td>\n",
       "      <td>No</td>\n",
       "      <td>1.0</td>\n",
       "      <td>No</td>\n",
       "    </tr>\n",
       "    <tr>\n",
       "      <th>4</th>\n",
       "      <td>2008-12-05</td>\n",
       "      <td>Albury</td>\n",
       "      <td>17.5</td>\n",
       "      <td>32.3</td>\n",
       "      <td>1.0</td>\n",
       "      <td>NaN</td>\n",
       "      <td>NaN</td>\n",
       "      <td>W</td>\n",
       "      <td>41.0</td>\n",
       "      <td>ENE</td>\n",
       "      <td>...</td>\n",
       "      <td>33.0</td>\n",
       "      <td>1010.8</td>\n",
       "      <td>1006.0</td>\n",
       "      <td>7.0</td>\n",
       "      <td>8.0</td>\n",
       "      <td>17.8</td>\n",
       "      <td>29.7</td>\n",
       "      <td>No</td>\n",
       "      <td>0.2</td>\n",
       "      <td>No</td>\n",
       "    </tr>\n",
       "  </tbody>\n",
       "</table>\n",
       "<p>5 rows × 24 columns</p>\n",
       "</div>"
      ],
      "text/plain": [
       "         Date Location  MinTemp  MaxTemp  Rainfall  Evaporation  Sunshine  \\\n",
       "0  2008-12-01   Albury     13.4     22.9       0.6          NaN       NaN   \n",
       "1  2008-12-02   Albury      7.4     25.1       0.0          NaN       NaN   \n",
       "2  2008-12-03   Albury     12.9     25.7       0.0          NaN       NaN   \n",
       "3  2008-12-04   Albury      9.2     28.0       0.0          NaN       NaN   \n",
       "4  2008-12-05   Albury     17.5     32.3       1.0          NaN       NaN   \n",
       "\n",
       "  WindGustDir  WindGustSpeed WindDir9am  ... Humidity3pm  Pressure9am  \\\n",
       "0           W           44.0          W  ...        22.0       1007.7   \n",
       "1         WNW           44.0        NNW  ...        25.0       1010.6   \n",
       "2         WSW           46.0          W  ...        30.0       1007.6   \n",
       "3          NE           24.0         SE  ...        16.0       1017.6   \n",
       "4           W           41.0        ENE  ...        33.0       1010.8   \n",
       "\n",
       "   Pressure3pm  Cloud9am  Cloud3pm  Temp9am  Temp3pm  RainToday  RISK_MM  \\\n",
       "0       1007.1       8.0       NaN     16.9     21.8         No      0.0   \n",
       "1       1007.8       NaN       NaN     17.2     24.3         No      0.0   \n",
       "2       1008.7       NaN       2.0     21.0     23.2         No      0.0   \n",
       "3       1012.8       NaN       NaN     18.1     26.5         No      1.0   \n",
       "4       1006.0       7.0       8.0     17.8     29.7         No      0.2   \n",
       "\n",
       "   RainTomorrow  \n",
       "0            No  \n",
       "1            No  \n",
       "2            No  \n",
       "3            No  \n",
       "4            No  \n",
       "\n",
       "[5 rows x 24 columns]"
      ]
     },
     "execution_count": 9,
     "metadata": {},
     "output_type": "execute_result"
    }
   ],
   "source": [
    "df.head()"
   ]
  },
  {
   "cell_type": "code",
   "execution_count": 10,
   "metadata": {},
   "outputs": [
    {
     "data": {
      "text/html": [
       "<div>\n",
       "<style scoped>\n",
       "    .dataframe tbody tr th:only-of-type {\n",
       "        vertical-align: middle;\n",
       "    }\n",
       "\n",
       "    .dataframe tbody tr th {\n",
       "        vertical-align: top;\n",
       "    }\n",
       "\n",
       "    .dataframe thead th {\n",
       "        text-align: right;\n",
       "    }\n",
       "</style>\n",
       "<table border=\"1\" class=\"dataframe\">\n",
       "  <thead>\n",
       "    <tr style=\"text-align: right;\">\n",
       "      <th></th>\n",
       "      <th>MinTemp</th>\n",
       "      <th>MaxTemp</th>\n",
       "      <th>Rainfall</th>\n",
       "      <th>Evaporation</th>\n",
       "      <th>Sunshine</th>\n",
       "      <th>WindGustSpeed</th>\n",
       "      <th>WindSpeed9am</th>\n",
       "      <th>WindSpeed3pm</th>\n",
       "      <th>Humidity9am</th>\n",
       "      <th>Humidity3pm</th>\n",
       "      <th>Pressure9am</th>\n",
       "      <th>Pressure3pm</th>\n",
       "      <th>Cloud9am</th>\n",
       "      <th>Cloud3pm</th>\n",
       "      <th>Temp9am</th>\n",
       "      <th>Temp3pm</th>\n",
       "      <th>RISK_MM</th>\n",
       "    </tr>\n",
       "  </thead>\n",
       "  <tbody>\n",
       "    <tr>\n",
       "      <th>count</th>\n",
       "      <td>141556.000000</td>\n",
       "      <td>141871.000000</td>\n",
       "      <td>140787.000000</td>\n",
       "      <td>81350.000000</td>\n",
       "      <td>74377.000000</td>\n",
       "      <td>132923.000000</td>\n",
       "      <td>140845.000000</td>\n",
       "      <td>139563.000000</td>\n",
       "      <td>140419.000000</td>\n",
       "      <td>138583.000000</td>\n",
       "      <td>128179.000000</td>\n",
       "      <td>128212.000000</td>\n",
       "      <td>88536.000000</td>\n",
       "      <td>85099.000000</td>\n",
       "      <td>141289.000000</td>\n",
       "      <td>139467.000000</td>\n",
       "      <td>142193.000000</td>\n",
       "    </tr>\n",
       "    <tr>\n",
       "      <th>mean</th>\n",
       "      <td>12.186400</td>\n",
       "      <td>23.226784</td>\n",
       "      <td>2.349974</td>\n",
       "      <td>5.469824</td>\n",
       "      <td>7.624853</td>\n",
       "      <td>39.984292</td>\n",
       "      <td>14.001988</td>\n",
       "      <td>18.637576</td>\n",
       "      <td>68.843810</td>\n",
       "      <td>51.482606</td>\n",
       "      <td>1017.653758</td>\n",
       "      <td>1015.258204</td>\n",
       "      <td>4.437189</td>\n",
       "      <td>4.503167</td>\n",
       "      <td>16.987509</td>\n",
       "      <td>21.687235</td>\n",
       "      <td>2.360682</td>\n",
       "    </tr>\n",
       "    <tr>\n",
       "      <th>std</th>\n",
       "      <td>6.403283</td>\n",
       "      <td>7.117618</td>\n",
       "      <td>8.465173</td>\n",
       "      <td>4.188537</td>\n",
       "      <td>3.781525</td>\n",
       "      <td>13.588801</td>\n",
       "      <td>8.893337</td>\n",
       "      <td>8.803345</td>\n",
       "      <td>19.051293</td>\n",
       "      <td>20.797772</td>\n",
       "      <td>7.105476</td>\n",
       "      <td>7.036677</td>\n",
       "      <td>2.887016</td>\n",
       "      <td>2.720633</td>\n",
       "      <td>6.492838</td>\n",
       "      <td>6.937594</td>\n",
       "      <td>8.477969</td>\n",
       "    </tr>\n",
       "    <tr>\n",
       "      <th>min</th>\n",
       "      <td>-8.500000</td>\n",
       "      <td>-4.800000</td>\n",
       "      <td>0.000000</td>\n",
       "      <td>0.000000</td>\n",
       "      <td>0.000000</td>\n",
       "      <td>6.000000</td>\n",
       "      <td>0.000000</td>\n",
       "      <td>0.000000</td>\n",
       "      <td>0.000000</td>\n",
       "      <td>0.000000</td>\n",
       "      <td>980.500000</td>\n",
       "      <td>977.100000</td>\n",
       "      <td>0.000000</td>\n",
       "      <td>0.000000</td>\n",
       "      <td>-7.200000</td>\n",
       "      <td>-5.400000</td>\n",
       "      <td>0.000000</td>\n",
       "    </tr>\n",
       "    <tr>\n",
       "      <th>25%</th>\n",
       "      <td>7.600000</td>\n",
       "      <td>17.900000</td>\n",
       "      <td>0.000000</td>\n",
       "      <td>2.600000</td>\n",
       "      <td>4.900000</td>\n",
       "      <td>31.000000</td>\n",
       "      <td>7.000000</td>\n",
       "      <td>13.000000</td>\n",
       "      <td>57.000000</td>\n",
       "      <td>37.000000</td>\n",
       "      <td>1012.900000</td>\n",
       "      <td>1010.400000</td>\n",
       "      <td>1.000000</td>\n",
       "      <td>2.000000</td>\n",
       "      <td>12.300000</td>\n",
       "      <td>16.600000</td>\n",
       "      <td>0.000000</td>\n",
       "    </tr>\n",
       "    <tr>\n",
       "      <th>50%</th>\n",
       "      <td>12.000000</td>\n",
       "      <td>22.600000</td>\n",
       "      <td>0.000000</td>\n",
       "      <td>4.800000</td>\n",
       "      <td>8.500000</td>\n",
       "      <td>39.000000</td>\n",
       "      <td>13.000000</td>\n",
       "      <td>19.000000</td>\n",
       "      <td>70.000000</td>\n",
       "      <td>52.000000</td>\n",
       "      <td>1017.600000</td>\n",
       "      <td>1015.200000</td>\n",
       "      <td>5.000000</td>\n",
       "      <td>5.000000</td>\n",
       "      <td>16.700000</td>\n",
       "      <td>21.100000</td>\n",
       "      <td>0.000000</td>\n",
       "    </tr>\n",
       "    <tr>\n",
       "      <th>75%</th>\n",
       "      <td>16.800000</td>\n",
       "      <td>28.200000</td>\n",
       "      <td>0.800000</td>\n",
       "      <td>7.400000</td>\n",
       "      <td>10.600000</td>\n",
       "      <td>48.000000</td>\n",
       "      <td>19.000000</td>\n",
       "      <td>24.000000</td>\n",
       "      <td>83.000000</td>\n",
       "      <td>66.000000</td>\n",
       "      <td>1022.400000</td>\n",
       "      <td>1020.000000</td>\n",
       "      <td>7.000000</td>\n",
       "      <td>7.000000</td>\n",
       "      <td>21.600000</td>\n",
       "      <td>26.400000</td>\n",
       "      <td>0.800000</td>\n",
       "    </tr>\n",
       "    <tr>\n",
       "      <th>max</th>\n",
       "      <td>33.900000</td>\n",
       "      <td>48.100000</td>\n",
       "      <td>371.000000</td>\n",
       "      <td>145.000000</td>\n",
       "      <td>14.500000</td>\n",
       "      <td>135.000000</td>\n",
       "      <td>130.000000</td>\n",
       "      <td>87.000000</td>\n",
       "      <td>100.000000</td>\n",
       "      <td>100.000000</td>\n",
       "      <td>1041.000000</td>\n",
       "      <td>1039.600000</td>\n",
       "      <td>9.000000</td>\n",
       "      <td>9.000000</td>\n",
       "      <td>40.200000</td>\n",
       "      <td>46.700000</td>\n",
       "      <td>371.000000</td>\n",
       "    </tr>\n",
       "  </tbody>\n",
       "</table>\n",
       "</div>"
      ],
      "text/plain": [
       "             MinTemp        MaxTemp       Rainfall   Evaporation  \\\n",
       "count  141556.000000  141871.000000  140787.000000  81350.000000   \n",
       "mean       12.186400      23.226784       2.349974      5.469824   \n",
       "std         6.403283       7.117618       8.465173      4.188537   \n",
       "min        -8.500000      -4.800000       0.000000      0.000000   \n",
       "25%         7.600000      17.900000       0.000000      2.600000   \n",
       "50%        12.000000      22.600000       0.000000      4.800000   \n",
       "75%        16.800000      28.200000       0.800000      7.400000   \n",
       "max        33.900000      48.100000     371.000000    145.000000   \n",
       "\n",
       "           Sunshine  WindGustSpeed   WindSpeed9am   WindSpeed3pm  \\\n",
       "count  74377.000000  132923.000000  140845.000000  139563.000000   \n",
       "mean       7.624853      39.984292      14.001988      18.637576   \n",
       "std        3.781525      13.588801       8.893337       8.803345   \n",
       "min        0.000000       6.000000       0.000000       0.000000   \n",
       "25%        4.900000      31.000000       7.000000      13.000000   \n",
       "50%        8.500000      39.000000      13.000000      19.000000   \n",
       "75%       10.600000      48.000000      19.000000      24.000000   \n",
       "max       14.500000     135.000000     130.000000      87.000000   \n",
       "\n",
       "         Humidity9am    Humidity3pm    Pressure9am    Pressure3pm  \\\n",
       "count  140419.000000  138583.000000  128179.000000  128212.000000   \n",
       "mean       68.843810      51.482606    1017.653758    1015.258204   \n",
       "std        19.051293      20.797772       7.105476       7.036677   \n",
       "min         0.000000       0.000000     980.500000     977.100000   \n",
       "25%        57.000000      37.000000    1012.900000    1010.400000   \n",
       "50%        70.000000      52.000000    1017.600000    1015.200000   \n",
       "75%        83.000000      66.000000    1022.400000    1020.000000   \n",
       "max       100.000000     100.000000    1041.000000    1039.600000   \n",
       "\n",
       "           Cloud9am      Cloud3pm        Temp9am        Temp3pm        RISK_MM  \n",
       "count  88536.000000  85099.000000  141289.000000  139467.000000  142193.000000  \n",
       "mean       4.437189      4.503167      16.987509      21.687235       2.360682  \n",
       "std        2.887016      2.720633       6.492838       6.937594       8.477969  \n",
       "min        0.000000      0.000000      -7.200000      -5.400000       0.000000  \n",
       "25%        1.000000      2.000000      12.300000      16.600000       0.000000  \n",
       "50%        5.000000      5.000000      16.700000      21.100000       0.000000  \n",
       "75%        7.000000      7.000000      21.600000      26.400000       0.800000  \n",
       "max        9.000000      9.000000      40.200000      46.700000     371.000000  "
      ]
     },
     "execution_count": 10,
     "metadata": {},
     "output_type": "execute_result"
    }
   ],
   "source": [
    "df.describe()"
   ]
  },
  {
   "cell_type": "code",
   "execution_count": 4,
   "metadata": {},
   "outputs": [],
   "source": [
    "import matplotlib.pyplot as plt"
   ]
  },
  {
   "cell_type": "code",
   "execution_count": 5,
   "metadata": {},
   "outputs": [],
   "source": [
    "import seaborn as sns\n"
   ]
  },
  {
   "cell_type": "code",
   "execution_count": 5,
   "metadata": {},
   "outputs": [
    {
     "data": {
      "image/png": "[encoded data removed]",
      "text/plain": [
       "<Figure size 432x288 with 1 Axes>"
      ]
     },
     "metadata": {},
     "output_type": "display_data"
    }
   ],
   "source": [
    "sns.set(style=\"darkgrid\")\n",
    "rain = sns.countplot(x=\"RainTomorrow\", data = df)"
   ]
  },
  {
   "cell_type": "code",
   "execution_count": 4,
   "metadata": {},
   "outputs": [
    {
     "data": {
      "text/plain": [
       "Text(0, 0.5, 'Evaporation')"
      ]
     },
     "execution_count": 4,
     "metadata": {},
     "output_type": "execute_result"
    },
    {
     "data": {
      "image/png": "[encoded data removed]",
      "text/plain": [
       "<Figure size 1080x720 with 4 Axes>"
      ]
     },
     "metadata": {
      "needs_background": "light"
     },
     "output_type": "display_data"
    }
   ],
   "source": [
    "# using boxplot\n",
    "plt.figure(figsize=(15, 10))\n",
    "\n",
    "plt.subplot(2, 2, 1)\n",
    "fig = df.boxplot(column='MinTemp')\n",
    "fig.set_title('')\n",
    "fig.set_ylabel('MinTemp')\n",
    "\n",
    "plt.subplot(2, 2, 2)\n",
    "fig = df.boxplot(column='MaxTemp')\n",
    "fig.set_title('')\n",
    "fig.set_ylabel('MaxTemp')\n",
    "\n",
    "plt.subplot(2, 2, 3)\n",
    "fig = df.boxplot(column='Rainfall')\n",
    "fig.set_title('')\n",
    "fig.set_ylabel('Rainfall')\n",
    "\n",
    "plt.subplot(2, 2, 4)\n",
    "fig = df.boxplot(column='Evaporation')\n",
    "fig.set_title('')\n",
    "fig.set_ylabel('Evaporation')\n"
   ]
  },
  {
   "cell_type": "code",
   "execution_count": 5,
   "metadata": {},
   "outputs": [
    {
     "data": {
      "text/plain": [
       "Text(0, 0.5, 'WindSpeed3pm')"
      ]
     },
     "execution_count": 5,
     "metadata": {},
     "output_type": "execute_result"
    },
    {
     "data": {
      "image/png": "[encoded data removed]",
      "text/plain": [
       "<Figure size 1080x720 with 4 Axes>"
      ]
     },
     "metadata": {
      "needs_background": "light"
     },
     "output_type": "display_data"
    }
   ],
   "source": [
    "plt.figure(figsize=(15, 10))\n",
    "\n",
    "plt.subplot(2, 2, 1)\n",
    "fig = df.boxplot(column='Sunshine')\n",
    "fig.set_title('')\n",
    "fig.set_ylabel('Sunshine')\n",
    "\n",
    "plt.subplot(2, 2, 2)\n",
    "fig = df.boxplot(column='WindGustSpeed')\n",
    "fig.set_title('')\n",
    "fig.set_ylabel('WindGustSpeed')\n",
    "\n",
    "plt.subplot(2, 2, 3)\n",
    "fig = df.boxplot(column='WindSpeed9am')\n",
    "fig.set_title('')\n",
    "fig.set_ylabel('WindSpeed9am')\n",
    "\n",
    "plt.subplot(2, 2, 4)\n",
    "fig = df.boxplot(column='WindSpeed3pm')\n",
    "fig.set_title('')\n",
    "fig.set_ylabel('WindSpeed3pm')\n"
   ]
  },
  {
   "cell_type": "code",
   "execution_count": 6,
   "metadata": {},
   "outputs": [
    {
     "data": {
      "text/plain": [
       "Text(0, 0.5, 'Pressure3pm')"
      ]
     },
     "execution_count": 6,
     "metadata": {},
     "output_type": "execute_result"
    },
    {
     "data": {
      "image/png": "[encoded data removed]",
      "text/plain": [
       "<Figure size 1080x720 with 4 Axes>"
      ]
     },
     "metadata": {
      "needs_background": "light"
     },
     "output_type": "display_data"
    }
   ],
   "source": [
    "plt.figure(figsize=(15, 10))\n",
    "\n",
    "plt.subplot(2, 2, 1)\n",
    "fig = df.boxplot(column='Humidity9am')\n",
    "fig.set_title('')\n",
    "fig.set_ylabel('Humidity9am')\n",
    "\n",
    "plt.subplot(2, 2, 2)\n",
    "fig = df.boxplot(column='Humidity3pm')\n",
    "fig.set_title('')\n",
    "fig.set_ylabel('Humidity3pm')\n",
    "\n",
    "plt.subplot(2, 2, 3)\n",
    "fig = df.boxplot(column='Pressure9am')\n",
    "fig.set_title('')\n",
    "fig.set_ylabel('Pressure9am')\n",
    "\n",
    "plt.subplot(2, 2, 4)\n",
    "fig = df.boxplot(column='Pressure3pm')\n",
    "fig.set_title('')\n",
    "fig.set_ylabel('Pressure3pm')"
   ]
  },
  {
   "cell_type": "code",
   "execution_count": 7,
   "metadata": {},
   "outputs": [
    {
     "data": {
      "text/plain": [
       "Text(0, 0.5, 'Temp9am')"
      ]
     },
     "execution_count": 7,
     "metadata": {},
     "output_type": "execute_result"
    },
    {
     "data": {
      "image/png": "[encoded data removed]",
      "text/plain": [
       "<Figure size 1080x720 with 3 Axes>"
      ]
     },
     "metadata": {
      "needs_background": "light"
     },
     "output_type": "display_data"
    }
   ],
   "source": [
    "plt.figure(figsize=(15, 10))\n",
    "\n",
    "plt.subplot(2, 2, 1)\n",
    "fig = df.boxplot(column='Cloud9am')\n",
    "fig.set_title('')\n",
    "fig.set_ylabel('Cloud9am')\n",
    "\n",
    "plt.subplot(2, 2, 2)\n",
    "fig = df.boxplot(column='Cloud3pm')\n",
    "fig.set_title('')\n",
    "fig.set_ylabel('Cloud3pm')\n",
    "\n",
    "plt.subplot(2, 2, 3)\n",
    "fig = df.boxplot(column='Temp9am')\n",
    "fig.set_title('')\n",
    "fig.set_ylabel('Temp9am')\n"
   ]
  },
  {
   "cell_type": "code",
   "execution_count": 8,
   "metadata": {},
   "outputs": [],
   "source": [
    "# evaluation\n",
    "\n",
    "# hold-out\n",
    "acc_train = [0.8427, 0.8300, 0.8555, 1.000]\n",
    "acc_test  = [0.8454, 0.8309, 0.8528, 0.7857]\n",
    "precision = [0.7253, 0.8132, 0.7894, 0.5209]\n",
    "recall    = [0.4992, 0.3184, 0.4681, 0.5446]\n",
    "f1        = [0.5914, 0.4577, 0.5877, 0.5325]\n",
    "\n",
    "# k-fold cross validation\n",
    "log_reg_scores = [0.84374313, 0.83991912, 0.84154543, 0.84528153, 0.84246154]\n",
    "rf_scores      = [0.82923828, 0.82809547, 0.83033713, 0.82994154, 0.83059341]\n",
    "svm_scores     = [0.8481825,  0.84677597, 0.84690783, 0.84866599, 0.84861538]\n",
    "dt_scores      = [0.78756978, 0.78378972, 0.78264692, 0.78378972, 0.78536264]\n"
   ]
  },
  {
   "cell_type": "code",
   "execution_count": 26,
   "metadata": {},
   "outputs": [
    {
     "data": {
      "image/png": "[encoded data removed]",
      "text/plain": [
       "<Figure size 720x360 with 1 Axes>"
      ]
     },
     "metadata": {
      "needs_background": "light"
     },
     "output_type": "display_data"
    }
   ],
   "source": [
    "x = np.arange(4)\n",
    "plt.figure(figsize=(10, 5))\n",
    "plt.bar(x, acc_train)\n",
    "plt.ylim(0, 1)\n",
    "plt.xticks(x, ('LogisticRegression', 'RandomForest', 'SVM', 'DecisionTree'))\n",
    "plt.title('Accuracy on training set')\n",
    "plt.show()"
   ]
  },
  {
   "cell_type": "code",
   "execution_count": 27,
   "metadata": {},
   "outputs": [
    {
     "data": {
      "image/png": "[encoded data removed]",
      "text/plain": [
       "<Figure size 720x360 with 1 Axes>"
      ]
     },
     "metadata": {
      "needs_background": "light"
     },
     "output_type": "display_data"
    }
   ],
   "source": [
    "x = np.arange(4)\n",
    "plt.figure(figsize=(10, 5))\n",
    "plt.bar(x, acc_test)\n",
    "plt.ylim(0, 1)\n",
    "plt.xticks(x, ('LogisticRegression', 'RandomForest', 'SVM', 'DecisionTree'))\n",
    "plt.title('Accuracy on test set')\n",
    "plt.show()"
   ]
  },
  {
   "cell_type": "code",
   "execution_count": 28,
   "metadata": {},
   "outputs": [
    {
     "data": {
      "image/png": "[encoded data removed]",
      "text/plain": [
       "<Figure size 720x360 with 1 Axes>"
      ]
     },
     "metadata": {
      "needs_background": "light"
     },
     "output_type": "display_data"
    }
   ],
   "source": [
    "x = np.arange(4)\n",
    "plt.figure(figsize=(10, 5))\n",
    "plt.bar(x, precision)\n",
    "plt.ylim(0, 1)\n",
    "plt.xticks(x, ('LogisticRegression', 'RandomForest', 'SVM', 'DecisionTree'))\n",
    "plt.title('Precision score')\n",
    "plt.show()"
   ]
  },
  {
   "cell_type": "code",
   "execution_count": 29,
   "metadata": {},
   "outputs": [
    {
     "data": {
      "image/png": "[encoded data removed]",
      "text/plain": [
       "<Figure size 720x360 with 1 Axes>"
      ]
     },
     "metadata": {
      "needs_background": "light"
     },
     "output_type": "display_data"
    }
   ],
   "source": [
    "x = np.arange(4)\n",
    "plt.figure(figsize=(10, 5))\n",
    "plt.bar(x, recall)\n",
    "plt.ylim(0, 1)\n",
    "plt.xticks(x, ('LogisticRegression', 'RandomForest', 'SVM', 'DecisionTree'))\n",
    "plt.title('Recall score')\n",
    "plt.show()"
   ]
  },
  {
   "cell_type": "code",
   "execution_count": 36,
   "metadata": {},
   "outputs": [
    {
     "data": {
      "image/png": "[encoded data removed]",
      "text/plain": [
       "<Figure size 720x360 with 1 Axes>"
      ]
     },
     "metadata": {
      "needs_background": "light"
     },
     "output_type": "display_data"
    }
   ],
   "source": [
    "x = np.arange(4)\n",
    "plt.figure(figsize=(10, 5))\n",
    "plt.bar(x, f1)\n",
    "plt.ylim(0, 1)\n",
    "plt.xticks(x, ('LogisticRegression', 'RandomForest', 'SVM', 'DecisionTree'))\n",
    "plt.title('F1 score')\n",
    "plt.show()"
   ]
  },
  {
   "cell_type": "code",
   "execution_count": 39,
   "metadata": {},
   "outputs": [
    {
     "data": {
      "image/png": "[encoded data removed]",
      "text/plain": [
       "<Figure size 720x360 with 1 Axes>"
      ]
     },
     "metadata": {
      "needs_background": "light"
     },
     "output_type": "display_data"
    }
   ],
   "source": [
    "plt.figure(figsize=(10, 5))\n",
    "plt.plot(log_reg_scores, label='LogisticRegression')\n",
    "plt.plot(rf_scores, label='RandomForest')\n",
    "plt.plot(svm_scores, label='SVM')\n",
    "plt.plot(dt_scores, label='DecisionTree')\n",
    "plt.legend(loc='best')\n",
    "plt.title('5-fold cross validation')\n",
    "plt.xlabel('Accuracy')\n",
    "plt.show()"
   ]
  },
  {
   "cell_type": "code",
   "execution_count": 48,
   "metadata": {},
   "outputs": [],
   "source": [
    "# time\n",
    "hold_out = [1.2041549682617188, 6.400276184082031, 709.5617244243622, 2.4233193397521973]\n",
    "k_fold   = [8.038497924804688, 31.08411693572998, 2584.269937515259, 13.708004474639893]"
   ]
  },
  {
   "cell_type": "code",
   "execution_count": 49,
   "metadata": {},
   "outputs": [
    {
     "data": {
      "image/png": "[encoded data removed]",
      "text/plain": [
       "<Figure size 720x360 with 1 Axes>"
      ]
     },
     "metadata": {
      "needs_background": "light"
     },
     "output_type": "display_data"
    }
   ],
   "source": [
    "x = np.arange(4)\n",
    "plt.figure(figsize=(10, 5))\n",
    "plt.bar(x, hold_out)\n",
    "plt.xticks(x, ('LogisticRegression', 'RandomForest', 'SVM', 'DecisionTree'))\n",
    "plt.title('Time')\n",
    "plt.show()"
   ]
  },
  {
   "cell_type": "code",
   "execution_count": 50,
   "metadata": {},
   "outputs": [
    {
     "data": {
      "image/png": "[encoded data removed]",
      "text/plain": [
       "<Figure size 720x360 with 1 Axes>"
      ]
     },
     "metadata": {
      "needs_background": "light"
     },
     "output_type": "display_data"
    }
   ],
   "source": [
    "x = np.arange(4)\n",
    "plt.figure(figsize=(10, 5))\n",
    "plt.bar(x, k_fold)\n",
    "plt.xticks(x, ('LogisticRegression', 'RandomForest', 'SVM', 'DecisionTree'))\n",
    "plt.title('Time')\n",
    "plt.show()"
   ]
  },
  {
   "cell_type": "code",
   "execution_count": null,
   "metadata": {},
   "outputs": [],
   "source": []
  }
 ],
 "metadata": {
  "kernelspec": {
   "display_name": "Python 3",
   "language": "python",
   "name": "python3"
  },
  "language_info": {
   "codemirror_mode": {
    "name": "ipython",
    "version": 3
   },
   "file_extension": ".py",
   "mimetype": "text/x-python",
   "name": "python",
   "nbconvert_exporter": "python",
   "pygments_lexer": "ipython3",
   "version": "3.7.3"
  }
 },
 "nbformat": 4,
 "nbformat_minor": 2
}
